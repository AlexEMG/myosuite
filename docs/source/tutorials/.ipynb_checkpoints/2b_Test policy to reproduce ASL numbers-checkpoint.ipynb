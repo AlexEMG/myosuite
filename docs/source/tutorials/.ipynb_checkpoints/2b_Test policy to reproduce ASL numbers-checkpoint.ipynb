{
 "cells": [
  {
   "cell_type": "code",
   "execution_count": 1,
   "metadata": {},
   "outputs": [
    {
     "name": "stdout",
     "output_type": "stream",
     "text": [
      "RS:> Registering Hand Envs\n",
      "RS:> Registering Biomechanics Envs\n"
     ]
    }
   ],
   "source": [
    "import mj_envs\n",
    "import gym\n",
    "import skvideo.io\n",
    "import numpy as np\n",
    "import os"
   ]
  },
  {
   "cell_type": "code",
   "execution_count": 2,
   "metadata": {},
   "outputs": [
    {
     "name": "stdout",
     "output_type": "stream",
     "text": [
      "Creating offscreen glfw\n",
      "Creating offscreen glfw\n",
      "Creating offscreen glfw\n",
      "Creating offscreen glfw\n",
      "Creating offscreen glfw\n",
      "Creating offscreen glfw\n",
      "Creating offscreen glfw\n",
      "Creating offscreen glfw\n",
      "Creating offscreen glfw\n",
      "Creating offscreen glfw\n"
     ]
    }
   ],
   "source": [
    "# pth = '/Users/caggiano/Dropbox (Meta)/Analysis/v0.1.6HandModel/env=HandPoseMuscleRandomRInit-v0,seed=10/J1c_FingerPoseMuscleRandom/iterations/'\n",
    "pth = '/Users/caggiano/Dropbox (Meta)/Analysis/v0.1.6HandModel/env=HandPoseMuscleRandom-v0,seed=22/J1c_FingerPoseMuscleRandom/iterations/'\n",
    "policy = pth+\"best_policy.pickle\"\n",
    "\n",
    "import pickle\n",
    "pi = pickle.load(open(policy, 'rb'))\n",
    "frames={}\n",
    "for k in range(10):\n",
    "    frames[k] = []\n",
    "    env = gym.make('HandPose'+str(k)+'MuscleFixed-v0')\n",
    "    env.reset()\n",
    "    for _ in range(60):\n",
    "        frame = env.sim.render(width=400, height=400,mode='offscreen', camera_name='plam_lookat')\n",
    "        frames[k].append(frame)#[::-1,:,:])\n",
    "        o = env.get_obs()\n",
    "        a = pi.get_action(o)[0]\n",
    "        next_o, r, done, ifo = env.step(a) # take an action based on the current observation\n",
    "    env.close()\n",
    "\n",
    "    os.makedirs('videos', exist_ok=True)\n",
    "    # make a local copy\n",
    "#     skvideo.io.vwrite('videos/ALS_number_'+str(k)+'.mp4', np.asarray(frames[k]),outputdict={\"-pix_fmt\": \"yuv420p\"})\n",
    "\n"
   ]
  },
  {
   "cell_type": "code",
   "execution_count": 3,
   "metadata": {},
   "outputs": [
    {
     "name": "stdout",
     "output_type": "stream",
     "text": [
      "List of cameras available ('hand_top', 'hand_bottom', 'hand_side_inter', 'hand_side_exter', 'plam_lookat')\n"
     ]
    }
   ],
   "source": [
    "print('List of cameras available',env.sim.model.camera_names)"
   ]
  },
  {
   "cell_type": "code",
   "execution_count": 4,
   "metadata": {},
   "outputs": [
    {
     "name": "stdout",
     "output_type": "stream",
     "text": [
      "(60, 400, 2000, 3) (60, 400, 2000, 3)\n"
     ]
    }
   ],
   "source": [
    "os.makedirs('videos', exist_ok=True)\n",
    "up = np.concatenate((np.asarray(frames[0]),np.asarray(frames[1]),np.asarray(frames[2]),np.asarray(frames[3]),np.asarray(frames[4])),2)\n",
    "down = np.concatenate((np.asarray(frames[5]),np.asarray(frames[6]),np.asarray(frames[7]),np.asarray(frames[8]),np.asarray(frames[9])),2)\n",
    "print(up.shape,down.shape)\n",
    "# import matplotlib.pyplot as plt\n",
    "# plt.imshow(np.vstack((up[0,:,:,:],down[0,:,:,:])))\n",
    "skvideo.io.vwrite('videos/ALS_Collage_fixed_init.mp4', np.concatenate((up,down),1),outputdict={\"-pix_fmt\": \"yuv420p\"})\n"
   ]
  },
  {
   "cell_type": "code",
   "execution_count": null,
   "metadata": {},
   "outputs": [],
   "source": []
  }
 ],
 "metadata": {
  "kernelspec": {
   "display_name": "O2MConverter",
   "language": "python",
   "name": "myenv"
  },
  "language_info": {
   "codemirror_mode": {
    "name": "ipython",
    "version": 3
   },
   "file_extension": ".py",
   "mimetype": "text/x-python",
   "name": "python",
   "nbconvert_exporter": "python",
   "pygments_lexer": "ipython3",
   "version": "3.6.2"
  }
 },
 "nbformat": 4,
 "nbformat_minor": 4
}
