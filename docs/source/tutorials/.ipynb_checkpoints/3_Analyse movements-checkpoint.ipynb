{
 "cells": [
  {
   "cell_type": "code",
   "execution_count": 4,
   "metadata": {},
   "outputs": [
    {
     "name": "stdout",
     "output_type": "stream",
     "text": [
      "RS:> Registering Hand Envs\n",
      "RS:> Registering Biomechanics Envs\n"
     ]
    }
   ],
   "source": [
    "import mj_envs\n",
    "import gym\n",
    "import skvideo.io\n",
    "import numpy as np\n",
    "import os"
   ]
  },
  {
   "cell_type": "code",
   "execution_count": 2,
   "metadata": {},
   "outputs": [],
   "source": [
    "pth = '/Users/caggiano/Dropbox (Meta)/Analysis/v0.1.6HandModel/env=HandPoseMuscleRandomRInit-v0,seed=10/J1c_FingerPoseMuscleRandom/iterations/'\n",
    "policy = pth+\"best_policy.pickle\"\n",
    "\n",
    "import pickle\n",
    "pi = pickle.load(open(policy, 'rb'))\n"
   ]
  },
  {
   "cell_type": "code",
   "execution_count": 5,
   "metadata": {},
   "outputs": [
    {
     "name": "stdout",
     "output_type": "stream",
     "text": [
      "List of cameras available ('hand_top', 'hand_bottom', 'hand_side_inter', 'hand_side_exter', 'plam_lookat')\n"
     ]
    }
   ],
   "source": [
    "env = gym.make('HandPoseMuscleRandom-v0')\n",
    "\n",
    "env.reset()\n",
    "print('List of cameras available',env.sim.model.camera_names)\n"
   ]
  },
  {
   "cell_type": "code",
   "execution_count": 16,
   "metadata": {},
   "outputs": [],
   "source": [
    "data_store = []\n",
    "for _ in range(10): # 10 episodes\n",
    "    for _ in range(100): # 100 samples for each episode\n",
    "#         frame = env.sim.render(width=400, height=400,mode='offscreen', camera_name=None)\n",
    "#         frames.append(frame[::-1,:,:])\n",
    "        o = env.get_obs()\n",
    "        a = pi.get_action(o)[0]\n",
    "        next_o, r, done, ifo = env.step(a) # take a random action\n",
    "        \n",
    "        next_o, r, done, ifo = env.step(a)\n",
    "            \n",
    "        data_store.append({\"action\":a.copy(), \n",
    "                            \"jpos\":env.sim.data.qpos.copy(), \n",
    "                            \"mlen\":env.sim.data.actuator_length.copy(), \n",
    "                            \"act\":env.sim.data.act.copy()})\n",
    "\n",
    "env.close()\n"
   ]
  },
  {
   "cell_type": "code",
   "execution_count": 13,
   "metadata": {},
   "outputs": [],
   "source": [
    "def VAF(W, H, A):\n",
    "    \"\"\"\n",
    "    Args:\n",
    "        W: ndarray, m x rank matrix, m-muscles x activation coefficients obtained from (#rank) nmf\n",
    "        H: ndarray, rank x L matrix, basis vectors obtained from nmf where L is the length of the signal\n",
    "        A: ndarray, m x L matrix, original time-invariant sEMG signal\n",
    "    Returns:\n",
    "        global_VAF: float, VAF calculated for the entire A based on the W&H\n",
    "        local_VAF: 1D array, VAF calculated for each muscle (column) in A based on W&H\n",
    "    \"\"\"\n",
    "    SSE_matrix = (A - np.dot(W, H))**2\n",
    "    SST_matrix = (A)**2\n",
    "\n",
    "    global_SSE = np.sum(SSE_matrix)\n",
    "    global_SST = np.sum(SST_matrix)\n",
    "    global_VAF = 100 * (1 - global_SSE / global_SST)\n",
    "\n",
    "    local_SSE = np.sum(SSE_matrix, axis = 0)\n",
    "    local_SST = np.sum(SST_matrix, axis = 0)\n",
    "    local_VAF = 100 * (1 - np.divide(local_SSE, local_SST))\n",
    "\n",
    "    return global_VAF, local_VAF"
   ]
  },
  {
   "cell_type": "code",
   "execution_count": 28,
   "metadata": {},
   "outputs": [
    {
     "name": "stderr",
     "output_type": "stream",
     "text": [
      "/Users/caggiano/anaconda3/envs/O2MConverter/lib/python3.6/site-packages/ipykernel_launcher.py:20: RuntimeWarning: invalid value encountered in true_divide\n",
      "/Users/caggiano/anaconda3/envs/O2MConverter/lib/python3.6/site-packages/ipykernel_launcher.py:20: RuntimeWarning: invalid value encountered in true_divide\n",
      "/Users/caggiano/anaconda3/envs/O2MConverter/lib/python3.6/site-packages/ipykernel_launcher.py:20: RuntimeWarning: invalid value encountered in true_divide\n",
      "/Users/caggiano/anaconda3/envs/O2MConverter/lib/python3.6/site-packages/sklearn/decomposition/_nmf.py:1077: ConvergenceWarning: Maximum number of iterations 200 reached. Increase it to improve convergence.\n",
      "  \" improve convergence.\" % max_iter, ConvergenceWarning)\n",
      "/Users/caggiano/anaconda3/envs/O2MConverter/lib/python3.6/site-packages/ipykernel_launcher.py:20: RuntimeWarning: invalid value encountered in true_divide\n",
      "/Users/caggiano/anaconda3/envs/O2MConverter/lib/python3.6/site-packages/ipykernel_launcher.py:20: RuntimeWarning: invalid value encountered in true_divide\n",
      "/Users/caggiano/anaconda3/envs/O2MConverter/lib/python3.6/site-packages/sklearn/decomposition/_nmf.py:1077: ConvergenceWarning: Maximum number of iterations 200 reached. Increase it to improve convergence.\n",
      "  \" improve convergence.\" % max_iter, ConvergenceWarning)\n",
      "/Users/caggiano/anaconda3/envs/O2MConverter/lib/python3.6/site-packages/ipykernel_launcher.py:20: RuntimeWarning: invalid value encountered in true_divide\n",
      "/Users/caggiano/anaconda3/envs/O2MConverter/lib/python3.6/site-packages/sklearn/decomposition/_nmf.py:1077: ConvergenceWarning: Maximum number of iterations 200 reached. Increase it to improve convergence.\n",
      "  \" improve convergence.\" % max_iter, ConvergenceWarning)\n",
      "/Users/caggiano/anaconda3/envs/O2MConverter/lib/python3.6/site-packages/ipykernel_launcher.py:20: RuntimeWarning: invalid value encountered in true_divide\n",
      "/Users/caggiano/anaconda3/envs/O2MConverter/lib/python3.6/site-packages/sklearn/decomposition/_nmf.py:1077: ConvergenceWarning: Maximum number of iterations 200 reached. Increase it to improve convergence.\n",
      "  \" improve convergence.\" % max_iter, ConvergenceWarning)\n",
      "/Users/caggiano/anaconda3/envs/O2MConverter/lib/python3.6/site-packages/ipykernel_launcher.py:20: RuntimeWarning: invalid value encountered in true_divide\n"
     ]
    },
    {
     "data": {
      "image/png": "[encoded data removed]",
      "text/plain": [
       "<Figure size 432x288 with 1 Axes>"
      ]
     },
     "metadata": {
      "needs_background": "light"
     },
     "output_type": "display_data"
    }
   ],
   "source": [
    "import matplotlib.pyplot as plt\n",
    "from sklearn.decomposition import NMF\n",
    "\n",
    "act = np.array([dd['act'] for dd in data_store])\n",
    "\n",
    "VAFstore=[]\n",
    "SSE, SST = [], []\n",
    "\n",
    "sample_points = [1,2,3,4,5,10,20,30]\n",
    "for isyn in sample_points:\n",
    "    nmf_model = NMF(n_components=isyn, init='random', random_state=0);\n",
    "    W = nmf_model.fit_transform(act)\n",
    "    H = nmf_model.components_\n",
    "\n",
    "    global_VAF, local_VAF = VAF(W, H, act)\n",
    "\n",
    "    VAFstore.append(global_VAF)\n",
    "\n",
    "plt.plot(sample_points,VAFstore,'-o')\n",
    "plt.xlabel('Number of Muscle Synergies')\n",
    "plt.ylabel('Explained Variance R^2')\n",
    "plt.gca().spines['top'].set_visible(False)\n",
    "plt.gca().spines['right'].set_visible(False)\n"
   ]
  },
  {
   "cell_type": "code",
   "execution_count": null,
   "metadata": {},
   "outputs": [],
   "source": []
  }
 ],
 "metadata": {
  "kernelspec": {
   "display_name": "O2MConverter",
   "language": "python",
   "name": "myenv"
  },
  "language_info": {
   "codemirror_mode": {
    "name": "ipython",
    "version": 3
   },
   "file_extension": ".py",
   "mimetype": "text/x-python",
   "name": "python",
   "nbconvert_exporter": "python",
   "pygments_lexer": "ipython3",
   "version": "3.6.2"
  }
 },
 "nbformat": 4,
 "nbformat_minor": 4
}
